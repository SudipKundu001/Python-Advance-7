{
 "cells": [
  {
   "cell_type": "markdown",
   "id": "e7fcb3ec",
   "metadata": {},
   "source": [
    ">__Q1. What is the purpose of the try statement?__"
   ]
  },
  {
   "cell_type": "markdown",
   "id": "1cf6fedd",
   "metadata": {},
   "source": [
    "Ans.  The try and except block in Python is used to catch and handle exceptions. Python executes code following the try statement as a “normal” part of the program. ... This exception error will crash the program if it is unhandled. The except clause determines how your program responds to exceptions."
   ]
  },
  {
   "cell_type": "markdown",
   "id": "e5e21911",
   "metadata": {},
   "source": [
    ">__Q2. What are the two most popular try statement variations?__"
   ]
  },
  {
   "cell_type": "markdown",
   "id": "f8f4a878",
   "metadata": {},
   "source": [
    "Ans. Error in Python can be of two types i.e. Syntax errors and Exceptions. "
   ]
  },
  {
   "cell_type": "markdown",
   "id": "66680d8a",
   "metadata": {},
   "source": [
    ">__Q3. What is the purpose of the raise statement?__"
   ]
  },
  {
   "cell_type": "markdown",
   "id": "6d7dd054",
   "metadata": {},
   "source": [
    "Ans.  The raise keyword is used to raise an exception. You can define what kind of error to raise, and the text to print to the user."
   ]
  },
  {
   "cell_type": "markdown",
   "id": "734f56cf",
   "metadata": {},
   "source": [
    ">__Q4. What does the assert statement do, and what other statement is it like?__"
   ]
  },
  {
   "cell_type": "markdown",
   "id": "774229bd",
   "metadata": {},
   "source": [
    "Ans.  assert statement takes an expression and optional message. assert statement is used to check types, values of argument and the output of the function. assert statement is used as debugging tool as it halts the program at the point where an error occurs."
   ]
  },
  {
   "cell_type": "markdown",
   "id": "2a6a4c3c",
   "metadata": {},
   "source": [
    ">__Q5. What is the purpose of the with/as argument, and what other statement is it like?__"
   ]
  },
  {
   "cell_type": "markdown",
   "id": "79215d6c",
   "metadata": {},
   "source": [
    "Ans.  with statement in Python is used in exception handling to make the code cleaner and much more readable. It simplifies the management of common resources like file streams. Observe the following code example on how the use of with statement makes code cleaner."
   ]
  },
  {
   "cell_type": "code",
   "execution_count": null,
   "id": "b9614f33",
   "metadata": {},
   "outputs": [],
   "source": []
  }
 ],
 "metadata": {
  "kernelspec": {
   "display_name": "Python 3",
   "language": "python",
   "name": "python3"
  },
  "language_info": {
   "codemirror_mode": {
    "name": "ipython",
    "version": 3
   },
   "file_extension": ".py",
   "mimetype": "text/x-python",
   "name": "python",
   "nbconvert_exporter": "python",
   "pygments_lexer": "ipython3",
   "version": "3.8.8"
  }
 },
 "nbformat": 4,
 "nbformat_minor": 5
}
